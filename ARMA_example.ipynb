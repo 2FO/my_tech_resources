{
 "metadata": {
  "name": "",
  "signature": "sha256:460dc26fc36a5352327aaf7930d6663e5809a0410b317300c5445ae2887cce02"
 },
 "nbformat": 3,
 "nbformat_minor": 0,
 "worksheets": [
  {
   "cells": [
    {
     "cell_type": "code",
     "collapsed": false,
     "input": [
      "from __future__ import print_function\n",
      "import numpy as np\n",
      "import statsmodels.api as sm\n",
      "import pandas as pd\n",
      "import matplotlib as mpl\n",
      "from statsmodels.tsa.arima_process import arma_generate_sample\n",
      "%matplotlib inline\n",
      "mpl.rcParams['figure.figsize'] = 18, 8\n",
      "np.random.seed(13579)"
     ],
     "language": "python",
     "metadata": {},
     "outputs": []
    },
    {
     "cell_type": "code",
     "collapsed": false,
     "input": [
      "arparams = np.array([.75, -.25])\n",
      "maparams = np.array([.65, .35])"
     ],
     "language": "python",
     "metadata": {},
     "outputs": []
    },
    {
     "cell_type": "code",
     "collapsed": false,
     "input": [
      "arparams = np.r_[1, -arparams] # array([ 1. , -0.75, 0.25])\n",
      "maparam = np.r_[1, maparams]   # array([ 1. ,  0.65, 0.35])\n",
      "nobs = 400\n",
      "y = arma_generate_sample(arparams, maparams, nobs)"
     ],
     "language": "python",
     "metadata": {},
     "outputs": []
    },
    {
     "cell_type": "code",
     "collapsed": false,
     "input": [
      "dates = sm.tsa.datetools.dates_from_range('1980m1', length=nobs)\n",
      "y = pd.TimeSeries(y, index=dates)\n",
      "arma_mod = sm.tsa.ARMA(y, order=(2,2))\n",
      "arma_res = arma_mod.fit(trend='nc', disp=-1)"
     ],
     "language": "python",
     "metadata": {},
     "outputs": []
    },
    {
     "cell_type": "code",
     "collapsed": false,
     "input": [
      "print(arma_res.summary())"
     ],
     "language": "python",
     "metadata": {},
     "outputs": []
    },
    {
     "cell_type": "code",
     "collapsed": false,
     "input": [
      "from statsmodels.tsa.arima_model import _arma_predict_out_of_sample\n",
      "params = arma_res.params\n",
      "residuals = arma_res.resid\n",
      "p = arma_res.k_ar\n",
      "q = arma_res.k_ma\n",
      "k_exog = arma_res.k_exog\n",
      "k_trend = arma_res.k_trend\n",
      "steps = 10\n",
      "\n",
      "_arma_predict_out_of_sample(params, steps, residuals, p, q, k_trend, k_exog, endog=y, exog=None, start=len(y))"
     ],
     "language": "python",
     "metadata": {},
     "outputs": []
    },
    {
     "cell_type": "code",
     "collapsed": false,
     "input": [
      "import matplotlib.pyplot as plt\n",
      "fig = plt.figure(figsize=(12,8))\n",
      "ax1 = fig.add_subplot(211)\n",
      "fig = sm.graphics.tsa.plot_acf(y.values.squeeze(), lags=40, ax=ax1)\n",
      "ax2 = fig.add_subplot(212)\n",
      "fig = sm.graphics.tsa.plot_pacf(y, lags=40, ax=ax2)"
     ],
     "language": "python",
     "metadata": {},
     "outputs": []
    },
    {
     "cell_type": "code",
     "collapsed": false,
     "input": [
      "y.plot()"
     ],
     "language": "python",
     "metadata": {},
     "outputs": []
    },
    {
     "cell_type": "code",
     "collapsed": false,
     "input": [],
     "language": "python",
     "metadata": {},
     "outputs": []
    }
   ],
   "metadata": {}
  }
 ]
}